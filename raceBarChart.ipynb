{
 "cells": [
  {
   "cell_type": "code",
   "execution_count": null,
   "metadata": {},
   "outputs": [],
   "source": [
    "from PIL import Image, ImageDraw\n",
    "import numpy as np\n",
    "import glob\n",
    "import pandas as pd\n",
    "import bar_chart_race as bcr\n"
   ]
  },
  {
   "cell_type": "code",
   "execution_count": null,
   "metadata": {},
   "outputs": [],
   "source": [
    "#crop all images in the folder\n",
    "def cropImage():\n",
    "    \n",
    "    \n",
    "    image_list = []\n",
    "    croppedImage=[]\n",
    "\n",
    "    for filename in glob.glob('D://DatenFürInsta//Bilder//topAnime//*.png'):\n",
    "        print(filename)\n",
    "        img = Image.open(filename)\n",
    "        image_list.append(img)\n",
    "        \n",
    "    for img in image_list:\n",
    "        # Open the input image as numpy array, convert to RGB\n",
    "        npImage=np.array(img)\n",
    "        h,w=img.size\n",
    "\n",
    "        # Create same size alpha layer with circle\n",
    "        alpha = Image.new('L', img.size,0)\n",
    "        draw = ImageDraw.Draw(alpha)\n",
    "        draw.pieslice([0,0,h,w],0,360,fill=255)\n",
    "\n",
    "        # Convert alpha Image to numpy array\n",
    "        npAlpha=np.array(alpha)\n",
    "\n",
    "        # Add alpha layer to RGB\n",
    "        npImage=np.dstack((npImage,npAlpha))\n",
    "\n",
    "        # Save with alpha\n",
    "        croppedImage.append(npImage)\n",
    "    \n",
    "        for (i, new) in enumerate(croppedImage):\n",
    "            \n",
    "           Image.fromarray(new).save('{}{}{}'.format('D://DatenFürInsta//Bilder//topAnimeFinal//', i+1, '.png'))\n",
    "\n",
    "        \n",
    "#resize the images by changing the params in submethod resize        \n",
    "def resizeImage():\n",
    "    image_list = []\n",
    "    resized_images = []\n",
    "\n",
    "    for filename in glob.glob('D://DatenFürInsta//Bilder//topAnimeFinal//*.png'):\n",
    "        print(filename)\n",
    "        img = Image.open(filename)\n",
    "        image_list.append(img)\n",
    "\n",
    "    for image in image_list:\n",
    "        image = image.resize((420, 420))\n",
    "        resized_images.append(image)\n",
    "\n",
    "    for (i, new) in enumerate(resized_images):\n",
    "        new.save('{}{}{}'.format('D://DatenFürInsta//Bilder//topAnimeFinal//', i+1, '.png'))"
   ]
  },
  {
   "cell_type": "code",
   "execution_count": null,
   "metadata": {},
   "outputs": [],
   "source": [
    "\n",
    "#transpose the dataset to get the date as index\n",
    "def transposeFile(pathFrom, pathTo):\n",
    "    df=pd.read_excel(pathFrom)\n",
    "    df=df.T\n",
    "    df =df.reset_index(level=0)\n",
    "    df.columns=df.iloc[0]\n",
    "    df=df.drop(df.index[0])\n",
    "    return df.to_csv(pathTo)\n",
    "\n",
    "#change columny types but integer to float \n",
    "def readFile(pathFrom):\n",
    "    df=pd.read_csv(pathFrom, thousands=',')\n",
    "    cols = df.select_dtypes(exclude=['int']).columns\n",
    "    df[cols] = df[cols].apply(pd.to_numeric, downcast='float', errors='coerce')\n",
    "    return df\n",
    "\n",
    "\n",
    "\n",
    "def period_summary(values, ranks):\n",
    "    top2 = values.nlargest(2)\n",
    "    leader = top2.index[0]\n",
    "    lead = top2.iloc[0] - top2.iloc[1]\n",
    "    s = f'{leader} by {lead:,.0f} billion'\n",
    "    return {'s': s, 'x': .99, 'y': .03, 'ha': 'right', 'size': 8}"
   ]
  },
  {
   "cell_type": "markdown",
   "metadata": {},
   "source": [
    "# Top Animes Dataset"
   ]
  },
  {
   "cell_type": "code",
   "execution_count": null,
   "metadata": {},
   "outputs": [],
   "source": [
    "transposeFile(\"Top10mostpopularanimes.xlsx\", \"Top10mostpopularanimes.csv\")"
   ]
  },
  {
   "cell_type": "code",
   "execution_count": null,
   "metadata": {},
   "outputs": [],
   "source": [
    "df=readFile(\"Top10mostpopularanimes.csv\")"
   ]
  },
  {
   "cell_type": "code",
   "execution_count": null,
   "metadata": {},
   "outputs": [],
   "source": [
    "df=df.set_index('Country Name')\n",
    "df=df.interpolate(method='linear', axis=0).bfill()\n",
    "df=df.drop(columns=['Unnamed: 0'])"
   ]
  },
  {
   "cell_type": "code",
   "execution_count": null,
   "metadata": {},
   "outputs": [],
   "source": [
    "#rename columns that have not supported signs \n",
    "dfAnime=dfAnime.rename(columns={\"Naruto: Shippuden\": \"Naruto Shippuden\", \"Code Geass: HNL\": \"Code Geass HNL\", \"Code Geass: HNL R2\": \"Code Geass HNL R2\",\n",
    "                        \"Fullmetal Alchemist: B\": \"Fullmetal Alchemist B\"\n",
    "                       \n",
    "                       \n",
    "                       \n",
    "                       }\n",
    "              \n",
    "              \n",
    "              )"
   ]
  },
  {
   "cell_type": "code",
   "execution_count": null,
   "metadata": {},
   "outputs": [],
   "source": [
    "#get the names of all columns\n",
    "cols=df.columns\n",
    "#change its type to integer\n",
    "df=df[cols].applymap(np.int64)"
   ]
  },
  {
   "cell_type": "code",
   "execution_count": null,
   "metadata": {},
   "outputs": [],
   "source": [
    "#create a race bar chart\n",
    "\n",
    "\n",
    "\n",
    "\n",
    "bcr.bar_chart_race(df=dfAnime,\n",
    "        n_bars=8,\n",
    "        img_label_folder='images_folder',\n",
    "        tick_image_mode='trailing',\n",
    "        fixed_order=False, \n",
    "        fixed_max=True, \n",
    "        steps_per_period=20, \n",
    "        period_length=2000,\n",
    "        period_summary_func=period_summary,\n",
    "        period_label={'x': .99, 'y': .1, 'ha': 'right', 'color': 'rebeccapurple'},\n",
    "        title='Die Beliebtesten Animes',\n",
    "        shared_fontdict={'family': 'Dejavu Sans', 'weight': 'bold',\n",
    "                                    'color': 'rebeccapurple'},\n",
    "        filter_column_colors=True,\n",
    "        #bar_textposition='inside',\n",
    "        bar_texttemplate='{x:,.0f}', \n",
    "        bar_label_font=7, \n",
    "        tick_label_font=7, \n",
    "        tick_template='{x:,.0f}',\n",
    "        scale='linear', \n",
    "        fig=None, \n",
    "        writer=None, \n",
    "        fig_kwargs={'dpi': 144},\n",
    "        period_template='Jahr {x:.0f}',\n",
    "        colors='dark12',\n",
    "        filename='topAnimesGer.mp4',\n",
    "        \n",
    "                  \n",
    "                )\n"
   ]
  }
 ],
 "metadata": {
  "kernelspec": {
   "display_name": "Python 3",
   "language": "python",
   "name": "python3"
  },
  "language_info": {
   "codemirror_mode": {
    "name": "ipython",
    "version": 3
   },
   "file_extension": ".py",
   "mimetype": "text/x-python",
   "name": "python",
   "nbconvert_exporter": "python",
   "pygments_lexer": "ipython3",
   "version": "3.7.5"
  }
 },
 "nbformat": 4,
 "nbformat_minor": 2
}
